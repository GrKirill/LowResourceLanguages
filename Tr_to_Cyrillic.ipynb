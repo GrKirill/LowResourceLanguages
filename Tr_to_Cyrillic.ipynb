{
 "cells": [
  {
   "cell_type": "code",
   "execution_count": 1,
   "metadata": {},
   "outputs": [],
   "source": [
    "from tqdm import tqdm\n",
    "from sacremoses import MosesTokenizer\n",
    "import morfessor\n",
    "import math"
   ]
  },
  {
   "cell_type": "code",
   "execution_count": null,
   "metadata": {},
   "outputs": [],
   "source": []
  },
  {
   "cell_type": "markdown",
   "metadata": {},
   "source": [
    "## Tr"
   ]
  },
  {
   "cell_type": "code",
   "execution_count": 2,
   "metadata": {},
   "outputs": [],
   "source": [
    "mt = MosesTokenizer(lang='tr')\n",
    "io = morfessor.MorfessorIO()\n",
    "train_data = list(io.read_corpus_file('/data2/Anypair/joeynmt/test/chain_translation/tr_ru/train.tr'))"
   ]
  },
  {
   "cell_type": "code",
   "execution_count": 3,
   "metadata": {},
   "outputs": [],
   "source": [
    "corpus = []\n",
    "with open('/data2/Anypair/joeynmt/test/chain_translation/tr_ru/train.tr','r') as f:\n",
    "    for line in f:\n",
    "        corpus.append(line)"
   ]
  },
  {
   "cell_type": "code",
   "execution_count": 4,
   "metadata": {},
   "outputs": [
    {
     "data": {
      "text/plain": [
       "2000000"
      ]
     },
     "execution_count": 4,
     "metadata": {},
     "output_type": "execute_result"
    }
   ],
   "source": [
    "len(corpus)"
   ]
  },
  {
   "cell_type": "code",
   "execution_count": 5,
   "metadata": {},
   "outputs": [
    {
     "name": "stderr",
     "output_type": "stream",
     "text": [
      "100%|██████████| 2000000/2000000 [01:25<00:00, 23394.53it/s]\n"
     ]
    }
   ],
   "source": [
    "all_unique_letters = []\n",
    "for line in tqdm(corpus):\n",
    "    mosesed = mt.tokenize(line, return_str=True)\n",
    "    sentence = mosesed.strip()\n",
    "    for word in sentence.split(\" \"):\n",
    "        for letter in word:\n",
    "            if letter not in all_unique_letters:\n",
    "                all_unique_letters.append(letter)\n",
    "                "
   ]
  },
  {
   "cell_type": "code",
   "execution_count": 6,
   "metadata": {},
   "outputs": [
    {
     "data": {
      "text/plain": [
       "['h',\n",
       " 'a',\n",
       " 's',\n",
       " 't',\n",
       " 'l',\n",
       " 'ı',\n",
       " 'k',\n",
       " 'r',\n",
       " 'n',\n",
       " 'm',\n",
       " 'z',\n",
       " 'e',\n",
       " 'ğ',\n",
       " 'b',\n",
       " 'd',\n",
       " 'ş',\n",
       " 'v',\n",
       " 'y',\n",
       " 'ü',\n",
       " 'i',\n",
       " 'g',\n",
       " 'u',\n",
       " 'p',\n",
       " 'c',\n",
       " 'ç',\n",
       " 'o',\n",
       " 'f',\n",
       " 'ö',\n",
       " '̇',\n",
       " '’']"
      ]
     },
     "execution_count": 6,
     "metadata": {},
     "output_type": "execute_result"
    }
   ],
   "source": [
    "all_unique_letters[:30]"
   ]
  },
  {
   "cell_type": "code",
   "execution_count": 8,
   "metadata": {},
   "outputs": [
    {
     "name": "stderr",
     "output_type": "stream",
     "text": [
      "...........................................................\n",
      "...........................................................\n",
      "...........................................................\n",
      "...........................................................\n",
      "...........................................................\n",
      "...........................................................\n",
      "...........................................................\n",
      "...........................................................\n",
      "...........................................................\n",
      "...........................................................\n",
      "...........................................................\n",
      "...........................................................\n",
      "...........................................................\n",
      "...........................................................\n",
      "...........................................................\n",
      "...........................................................\n",
      "...........................................................\n",
      "...........................................................\n",
      "...........................................................\n",
      "...........................................................\n",
      "...........................................................\n"
     ]
    }
   ],
   "source": [
    "model_types = morfessor.BaselineModel()\n",
    "model_logtokens = morfessor.BaselineModel()\n",
    "model_tokens = morfessor.BaselineModel()\n",
    "\n",
    "model_types.load_data(train_data, count_modifier=lambda x: 1)\n",
    "def log_func(x):\n",
    "    return int(round(math.log(x + 1, 2)))\n",
    "model_logtokens.load_data(train_data, count_modifier=log_func)\n",
    "model_tokens.load_data(train_data[:1000])\n",
    "\n",
    "models = [model_types, model_logtokens, model_tokens]\n",
    "\n",
    "for model in models:\n",
    "    model.train_batch()"
   ]
  },
  {
   "cell_type": "code",
   "execution_count": 9,
   "metadata": {},
   "outputs": [],
   "source": [
    "tr_cyrillic = {'a':'а', 'b':'б', 'v':'в', 'g':'г', 'ğ':'г', 'd':'д', 'e':'е', 'j':'ж', \n",
    "               'i':'и', 'y':'й', 'k':'к', 'l':'л', 'm':'м', 'n':'н', 'o':'о', 'ö':'ө', 'p':'п',\n",
    "              'r':'р', 's':'с', 't':'т', 'u':'у', 'ü':'у', 'f':'ф', 'h':'x', 'ç':'ч', 'ş':'ш',\n",
    "              'ı':'ы'}"
   ]
  },
  {
   "cell_type": "code",
   "execution_count": 33,
   "metadata": {},
   "outputs": [
    {
     "name": "stderr",
     "output_type": "stream",
     "text": [
      "100%|██████████| 2000000/2000000 [10:31<00:00, 3167.97it/s]\n"
     ]
    }
   ],
   "source": [
    "prep = []\n",
    "for line in tqdm(corpus):\n",
    "    sentence = line.strip()\n",
    "    sentence_words = []\n",
    "    for word in sentence.split(\" \"):\n",
    "        cyrillic_word = ''\n",
    "        try:\n",
    "            for letter in model.viterbi_segment(word)[0][0]:\n",
    "                try:\n",
    "                    cyr_letter = tr_cyrillic[letter]\n",
    "                    cyrillic_word += cyr_letter\n",
    "                except:\n",
    "                    pass\n",
    "            sentence_words.append(cyrillic_word)\n",
    "        except:\n",
    "            pass\n",
    "    prep.append(' '.join(sentence_words))\n",
    "        "
   ]
  },
  {
   "cell_type": "code",
   "execution_count": 34,
   "metadata": {},
   "outputs": [],
   "source": [
    "with open('/data2/Anypair/joeynmt/test/chain_translation/morfessor_cyrillic_tr_ru/train.tr','w') as f:\n",
    "    for line in prep:\n",
    "        f.write(line)\n",
    "        f.write('\\n')"
   ]
  },
  {
   "cell_type": "markdown",
   "metadata": {},
   "source": [
    "## Validation preprocessing"
   ]
  },
  {
   "cell_type": "code",
   "execution_count": 35,
   "metadata": {},
   "outputs": [],
   "source": [
    "validation_data = []\n",
    "with open('/data2/Anypair/joeynmt/test/chain_translation/tr_ru/dev.tr','r') as f:\n",
    "    for line in f:\n",
    "        validation_data.append(line)"
   ]
  },
  {
   "cell_type": "code",
   "execution_count": 36,
   "metadata": {},
   "outputs": [
    {
     "name": "stderr",
     "output_type": "stream",
     "text": [
      "100%|██████████| 10000/10000 [00:02<00:00, 3346.95it/s]\n"
     ]
    }
   ],
   "source": [
    "prep_val = []\n",
    "for line in tqdm(validation_data):\n",
    "    sentence = line.strip()\n",
    "    sentence_words = []\n",
    "    for word in sentence.split(\" \"):\n",
    "        cyrillic_word = ''\n",
    "        try:\n",
    "            for letter in model.viterbi_segment(word)[0][0]:\n",
    "                try:\n",
    "                    cyr_letter = tr_cyrillic[letter]\n",
    "                    cyrillic_word += cyr_letter\n",
    "                except:\n",
    "                    pass\n",
    "            sentence_words.append(cyrillic_word)\n",
    "        except:\n",
    "            pass\n",
    "    prep_val.append(' '.join(sentence_words))"
   ]
  },
  {
   "cell_type": "code",
   "execution_count": 37,
   "metadata": {},
   "outputs": [],
   "source": [
    "with open('/data2/Anypair/joeynmt/test/chain_translation/morfessor_cyrillic_tr_ru/dev.tr','w') as f:\n",
    "    for line in prep:\n",
    "        f.write(line)\n",
    "        f.write('\\n')"
   ]
  },
  {
   "cell_type": "markdown",
   "metadata": {},
   "source": [
    "## Test preprocessing"
   ]
  },
  {
   "cell_type": "code",
   "execution_count": 38,
   "metadata": {},
   "outputs": [],
   "source": [
    "test_data = []\n",
    "with open('/data2/Anypair/joeynmt/test/chain_translation/tr_ru/test.tr','r') as f:\n",
    "    for line in f:\n",
    "        test_data.append(line)"
   ]
  },
  {
   "cell_type": "code",
   "execution_count": 39,
   "metadata": {},
   "outputs": [
    {
     "name": "stderr",
     "output_type": "stream",
     "text": [
      "100%|██████████| 10000/10000 [00:10<00:00, 969.63it/s]\n"
     ]
    }
   ],
   "source": [
    "prep_test = []\n",
    "for line in tqdm(test_data):\n",
    "    sentence = line.strip()\n",
    "    sentence_words = []\n",
    "    for word in sentence.split(\" \"):\n",
    "        cyrillic_word = ''\n",
    "        try:\n",
    "            for letter in model.viterbi_segment(word)[0][0]:\n",
    "                try:\n",
    "                    cyr_letter = tr_cyrillic[letter]\n",
    "                    cyrillic_word += cyr_letter\n",
    "                except:\n",
    "                    pass\n",
    "            sentence_words.append(cyrillic_word)\n",
    "        except:\n",
    "            pass\n",
    "    prep_test.append(' '.join(sentence_words))"
   ]
  },
  {
   "cell_type": "code",
   "execution_count": 40,
   "metadata": {},
   "outputs": [],
   "source": [
    "with open('/data2/Anypair/joeynmt/test/chain_translation/morfessor_cyrillic_tr_ru/test.tr','w') as f:\n",
    "    for line in prep:\n",
    "        f.write(line)\n",
    "        f.write('\\n')"
   ]
  },
  {
   "cell_type": "markdown",
   "metadata": {},
   "source": []
  },
  {
   "cell_type": "markdown",
   "metadata": {},
   "source": [
    "## Ky"
   ]
  },
  {
   "cell_type": "code",
   "execution_count": 6,
   "metadata": {},
   "outputs": [],
   "source": [
    "io = morfessor.MorfessorIO()\n",
    "train_data = list(io.read_corpus_file('/data/Anypair/joeynmt/test/data_ky_ru/data/train.ky'))"
   ]
  },
  {
   "cell_type": "code",
   "execution_count": 7,
   "metadata": {},
   "outputs": [
    {
     "name": "stderr",
     "output_type": "stream",
     "text": [
      "...........................................................\n",
      "...........................................................\n",
      "...........................................................\n",
      "...........................................................\n",
      "...........................................................\n",
      "...........................................................\n",
      "...........................................................\n",
      "...........................................................\n",
      "...........................................................\n",
      "...........................................................\n",
      "...........................................................\n",
      "...........................................................\n",
      "...........................................................\n",
      "...........................................................\n",
      "........................................................\n",
      "........................................................\n",
      "........................................................\n",
      "........................................................\n",
      "........................................................\n"
     ]
    }
   ],
   "source": [
    "model_types = morfessor.BaselineModel()\n",
    "model_logtokens = morfessor.BaselineModel()\n",
    "model_tokens = morfessor.BaselineModel()\n",
    "\n",
    "model_types.load_data(train_data, count_modifier=lambda x: 1)\n",
    "def log_func(x):\n",
    "    return int(round(math.log(x + 1, 2)))\n",
    "model_logtokens.load_data(train_data, count_modifier=log_func)\n",
    "model_tokens.load_data(train_data[:1000])\n",
    "\n",
    "models = [model_types, model_logtokens, model_tokens]\n",
    "\n",
    "for model in models:\n",
    "    model.train_batch()"
   ]
  },
  {
   "cell_type": "code",
   "execution_count": 8,
   "metadata": {},
   "outputs": [],
   "source": [
    "train_data = []\n",
    "with open('/data/Anypair/joeynmt/test/data_ky_ru/data/train.ky','r') as f:\n",
    "    for line in f:\n",
    "        train_data.append(line)\n",
    "        \n",
    "dev_data = []\n",
    "with open('/data/Anypair/joeynmt/test/data_ky_ru/data/dev.ky','r') as f:\n",
    "    for line in f:\n",
    "        dev_data.append(line)\n",
    "\n",
    "test_data = []\n",
    "with open('/data/Anypair/joeynmt/test/data_ky_ru/data/test.ky','r') as f:\n",
    "    for line in f:\n",
    "        test_data.append(line)"
   ]
  },
  {
   "cell_type": "code",
   "execution_count": 23,
   "metadata": {},
   "outputs": [
    {
     "name": "stderr",
     "output_type": "stream",
     "text": [
      "100%|██████████| 150000/150000 [02:18<00:00, 1084.67it/s]\n",
      "100%|██████████| 9741/9741 [00:08<00:00, 1089.01it/s]\n",
      "100%|██████████| 9723/9723 [00:09<00:00, 1080.27it/s]\n"
     ]
    }
   ],
   "source": [
    "prep_train = []\n",
    "for line in tqdm(train_data):\n",
    "    sentence = line.strip()\n",
    "    sentence_words = []\n",
    "    for word in sentence.split(\" \"):\n",
    "        try:\n",
    "            morf =  model.viterbi_segment(word)[0][0]\n",
    "            sentence_words.append(morf)\n",
    "        except:\n",
    "            pass\n",
    "    prep_train.append(' '.join(sentence_words))\n",
    "\n",
    "prep_dev = []\n",
    "for line in tqdm(dev_data):\n",
    "    sentence = line.strip()\n",
    "    sentence_words = []\n",
    "    for word in sentence.split(\" \"):\n",
    "        try:\n",
    "            morf =  model.viterbi_segment(word)[0][0]  \n",
    "            sentence_words.append(morf)\n",
    "        except:\n",
    "            pass\n",
    "    prep_dev.append(' '.join(sentence_words))\n",
    "\n",
    "prep_test = []\n",
    "for line in tqdm(test_data):\n",
    "    sentence = line.strip()\n",
    "    sentence_words = []\n",
    "    for word in sentence.split(\" \"):\n",
    "        try:\n",
    "            morf =  model.viterbi_segment(word)[0][0] \n",
    "            sentence_words.append(morf)\n",
    "        except:\n",
    "            pass\n",
    "    prep_test.append(' '.join(sentence_words))"
   ]
  },
  {
   "cell_type": "code",
   "execution_count": 26,
   "metadata": {},
   "outputs": [],
   "source": [
    "with open('/data/Anypair/joeynmt/test/data_ky_ru/data_plus_morfessor_cyrillic_tr_and_ky/morfessed_train.ky','w') as f:\n",
    "    for line in prep_train:\n",
    "        f.write(line)\n",
    "        f.write('\\n')\n",
    "    \n",
    "with open('/data/Anypair/joeynmt/test/data_ky_ru/data_plus_morfessor_cyrillic_tr_and_ky/morfessed_dev.ky','w') as f:\n",
    "    for line in prep_dev:\n",
    "        f.write(line)\n",
    "        f.write('\\n')\n",
    "\n",
    "with open('/data/Anypair/joeynmt/test/data_ky_ru/data_plus_morfessor_cyrillic_tr_and_ky/morfessed_test.ky','w') as f:\n",
    "    for line in prep_test:\n",
    "        f.write(line)\n",
    "        f.write('\\n')"
   ]
  }
 ],
 "metadata": {
  "kernelspec": {
   "display_name": "Python 2",
   "language": "python",
   "name": "python2"
  },
  "language_info": {
   "codemirror_mode": {
    "name": "ipython",
    "version": 3
   },
   "file_extension": ".py",
   "mimetype": "text/x-python",
   "name": "python",
   "nbconvert_exporter": "python",
   "pygments_lexer": "ipython3",
   "version": "3.6.9"
  }
 },
 "nbformat": 4,
 "nbformat_minor": 4
}
